version https://git-lfs.github.com/spec/v1
oid sha256:66d483caa297a4ecf2698a88cea441f71071cf0b2cfbb38085eea00c1d44a16e
size 5176
