version https://git-lfs.github.com/spec/v1
oid sha256:6bf9dd931e93ffd11c146dc6eeaaefce468924c306700f22d082a607fb08d314
size 291096
