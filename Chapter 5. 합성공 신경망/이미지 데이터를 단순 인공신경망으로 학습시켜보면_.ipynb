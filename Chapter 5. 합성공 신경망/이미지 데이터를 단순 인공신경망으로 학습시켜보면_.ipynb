version https://git-lfs.github.com/spec/v1
oid sha256:323b1aef5b6fb8c9f17381bfca0461e100a69cc844b806587bd372945950202e
size 69418
