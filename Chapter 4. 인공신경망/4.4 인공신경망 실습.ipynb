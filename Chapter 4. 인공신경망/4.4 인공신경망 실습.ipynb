version https://git-lfs.github.com/spec/v1
oid sha256:98ba71de5f75ede3b9d35ae80325d636a9d11e46bc5a22bcb0441091a1bc3d15
size 72341
